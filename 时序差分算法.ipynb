{
 "cells": [
  {
   "cell_type": "code",
   "execution_count": null,
   "metadata": {},
   "outputs": [],
   "source": [
    "# 时序差分算法\n",
    "'''\n",
    "动态规划算法要求MDP完全已知，所以不需要和环境交互，只需要一个模型就可以了。\n",
    "但是在现实生活中，我们很难得到一个完全已知的MDP，所以我们需要一个算法来估计MDP。\n",
    "时序差分算法就是这样一种算法，它可以在和环境交互的过程中，不断地更新MDP的估计值。\n",
    "时序差分算法的思想是：在和环境交互的过程中，我们可以不断地更新MDP的估计值。\n",
    "我们可以通过观察到的奖励值和状态转移来更新MDP的估计值。\n",
    "\n",
    "是一种 Model-Free 的算法，它不需要环境的完全信息，只需要和环境交互的数据就可以了。\n",
    "这里我们用 Sarsa 和 Q-Learning 两种算法来实现时序差分算法。\n",
    "'''"
   ]
  },
  {
   "cell_type": "code",
   "execution_count": 1,
   "metadata": {},
   "outputs": [
    {
     "name": "stdout",
     "output_type": "stream",
     "text": [
      "   |e - a/b|   a   b\n",
      "0   0.000468  87  32\n",
      "1   0.001718  68  25\n",
      "2   0.003940  49  18\n",
      "3   0.003940  98  36\n",
      "4   0.003996  19   7\n",
      "5   0.003996  38  14\n",
      "6   0.003996  57  21\n",
      "7   0.003996  76  28\n",
      "8   0.003996  95  35\n",
      "9   0.005856  79  29\n"
     ]
    }
   ],
   "source": [
    "import math\n",
    "import pandas as pd\n",
    "\n",
    "# 设置 e 的值\n",
    "e = math.e\n",
    "\n",
    "# 存储结果\n",
    "results = []\n",
    "\n",
    "# 遍历 a 和 b 的所有可能值\n",
    "for a in range(0, 101):\n",
    "    for b in range(1, 101):  # 避免 b = 0\n",
    "        diff = abs(e - a / b)  # 计算 |e - a/b|\n",
    "        results.append((diff, a, b))\n",
    "\n",
    "# 按 diff 排序并选出最小的10个值\n",
    "results.sort()\n",
    "top_10_results = results[:10]\n",
    "\n",
    "# 用 Pandas 显示结果\n",
    "df = pd.DataFrame(top_10_results, columns=[\"|e - a/b|\", \"a\", \"b\"])\n",
    "print(df)"
   ]
  }
 ],
 "metadata": {
  "kernelspec": {
   "display_name": "anyscale-academy",
   "language": "python",
   "name": "python3"
  },
  "language_info": {
   "name": "python",
   "version": "3.8.18"
  }
 },
 "nbformat": 4,
 "nbformat_minor": 2
}
